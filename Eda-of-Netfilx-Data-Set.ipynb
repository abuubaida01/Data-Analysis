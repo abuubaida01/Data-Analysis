{
 "cells": [
  {
   "cell_type": "code",
   "execution_count": 1,
   "id": "7dcd77c4",
   "metadata": {
    "_cell_guid": "b1076dfc-b9ad-4769-8c92-a6c4dae69d19",
    "_uuid": "8f2839f25d086af736a60e9eeb907d3b93b6e0e5",
    "execution": {
     "iopub.execute_input": "2022-01-23T14:10:47.525332Z",
     "iopub.status.busy": "2022-01-23T14:10:47.523506Z",
     "iopub.status.idle": "2022-01-23T14:10:48.588636Z",
     "shell.execute_reply": "2022-01-23T14:10:48.589200Z",
     "shell.execute_reply.started": "2022-01-23T14:09:49.107001Z"
    },
    "papermill": {
     "duration": 1.092916,
     "end_time": "2022-01-23T14:10:48.589502",
     "exception": false,
     "start_time": "2022-01-23T14:10:47.496586",
     "status": "completed"
    },
    "tags": []
   },
   "outputs": [
    {
     "name": "stdout",
     "output_type": "stream",
     "text": [
      "/kaggle/input/netflix-shows/netflix_titles.csv\n"
     ]
    }
   ],
   "source": [
    "# This Python 3 environment comes with many helpful analytics libraries installed\n",
    "# It is defined by the kaggle/python Docker image: https://github.com/kaggle/docker-python\n",
    "# For example, here's several helpful packages to load\n",
    "\n",
    "import numpy as np # linear algebra\n",
    "import pandas as pd # data processing, CSV file I/O (e.g. pd.read_csv)\n",
    "import matplotlib.pyplot as plt\n",
    "import seaborn as sns\n",
    "# Input data files are available in the read-only \"../input/\" directory\n",
    "# For example, running this (by clicking run or pressing Shift+Enter) will list all files under the input directory\n",
    "\n",
    "import os\n",
    "for dirname, _, filenames in os.walk('/kaggle/input'):\n",
    "    for filename in filenames:\n",
    "        print(os.path.join(dirname, filename))\n",
    "\n",
    "# You can write up to 20GB to the current directory (/kaggle/working/) that gets preserved as output when you create a version using \"Save & Run All\" \n",
    "# You can also write temporary files to /kaggle/temp/, but they won't be saved outside of the current session"
   ]
  },
  {
   "cell_type": "code",
   "execution_count": 2,
   "id": "d97f880e",
   "metadata": {
    "execution": {
     "iopub.execute_input": "2022-01-23T14:10:48.641082Z",
     "iopub.status.busy": "2022-01-23T14:10:48.640386Z",
     "iopub.status.idle": "2022-01-23T14:10:48.853502Z",
     "shell.execute_reply": "2022-01-23T14:10:48.854086Z",
     "shell.execute_reply.started": "2022-01-23T14:09:49.121803Z"
    },
    "papermill": {
     "duration": 0.242123,
     "end_time": "2022-01-23T14:10:48.854294",
     "exception": false,
     "start_time": "2022-01-23T14:10:48.612171",
     "status": "completed"
    },
    "tags": []
   },
   "outputs": [],
   "source": [
    "ndata = pd.read_csv('../input/netflix-shows/netflix_titles.csv', index_col = 'show_id', parse_dates=[5])"
   ]
  },
  {
   "cell_type": "code",
   "execution_count": 3,
   "id": "69f5459b",
   "metadata": {
    "execution": {
     "iopub.execute_input": "2022-01-23T14:10:48.901569Z",
     "iopub.status.busy": "2022-01-23T14:10:48.900611Z",
     "iopub.status.idle": "2022-01-23T14:10:48.924452Z",
     "shell.execute_reply": "2022-01-23T14:10:48.924963Z",
     "shell.execute_reply.started": "2022-01-23T14:09:49.202495Z"
    },
    "papermill": {
     "duration": 0.048791,
     "end_time": "2022-01-23T14:10:48.925185",
     "exception": false,
     "start_time": "2022-01-23T14:10:48.876394",
     "status": "completed"
    },
    "tags": []
   },
   "outputs": [
    {
     "data": {
      "text/html": [
       "<div>\n",
       "<style scoped>\n",
       "    .dataframe tbody tr th:only-of-type {\n",
       "        vertical-align: middle;\n",
       "    }\n",
       "\n",
       "    .dataframe tbody tr th {\n",
       "        vertical-align: top;\n",
       "    }\n",
       "\n",
       "    .dataframe thead th {\n",
       "        text-align: right;\n",
       "    }\n",
       "</style>\n",
       "<table border=\"1\" class=\"dataframe\">\n",
       "  <thead>\n",
       "    <tr style=\"text-align: right;\">\n",
       "      <th></th>\n",
       "      <th>type</th>\n",
       "      <th>title</th>\n",
       "      <th>director</th>\n",
       "      <th>cast</th>\n",
       "      <th>country</th>\n",
       "      <th>date_added</th>\n",
       "      <th>release_year</th>\n",
       "      <th>rating</th>\n",
       "      <th>duration</th>\n",
       "      <th>listed_in</th>\n",
       "      <th>description</th>\n",
       "    </tr>\n",
       "    <tr>\n",
       "      <th>show_id</th>\n",
       "      <th></th>\n",
       "      <th></th>\n",
       "      <th></th>\n",
       "      <th></th>\n",
       "      <th></th>\n",
       "      <th></th>\n",
       "      <th></th>\n",
       "      <th></th>\n",
       "      <th></th>\n",
       "      <th></th>\n",
       "      <th></th>\n",
       "    </tr>\n",
       "  </thead>\n",
       "  <tbody>\n",
       "    <tr>\n",
       "      <th>s1</th>\n",
       "      <td>Movie</td>\n",
       "      <td>Dick Johnson Is Dead</td>\n",
       "      <td>Kirsten Johnson</td>\n",
       "      <td>NaN</td>\n",
       "      <td>United States</td>\n",
       "      <td>September 25, 2021</td>\n",
       "      <td>2020</td>\n",
       "      <td>PG-13</td>\n",
       "      <td>90 min</td>\n",
       "      <td>Documentaries</td>\n",
       "      <td>As her father nears the end of his life, filmm...</td>\n",
       "    </tr>\n",
       "    <tr>\n",
       "      <th>s2</th>\n",
       "      <td>TV Show</td>\n",
       "      <td>Blood &amp; Water</td>\n",
       "      <td>NaN</td>\n",
       "      <td>Ama Qamata, Khosi Ngema, Gail Mabalane, Thaban...</td>\n",
       "      <td>South Africa</td>\n",
       "      <td>September 24, 2021</td>\n",
       "      <td>2021</td>\n",
       "      <td>TV-MA</td>\n",
       "      <td>2 Seasons</td>\n",
       "      <td>International TV Shows, TV Dramas, TV Mysteries</td>\n",
       "      <td>After crossing paths at a party, a Cape Town t...</td>\n",
       "    </tr>\n",
       "    <tr>\n",
       "      <th>s3</th>\n",
       "      <td>TV Show</td>\n",
       "      <td>Ganglands</td>\n",
       "      <td>Julien Leclercq</td>\n",
       "      <td>Sami Bouajila, Tracy Gotoas, Samuel Jouy, Nabi...</td>\n",
       "      <td>NaN</td>\n",
       "      <td>September 24, 2021</td>\n",
       "      <td>2021</td>\n",
       "      <td>TV-MA</td>\n",
       "      <td>1 Season</td>\n",
       "      <td>Crime TV Shows, International TV Shows, TV Act...</td>\n",
       "      <td>To protect his family from a powerful drug lor...</td>\n",
       "    </tr>\n",
       "    <tr>\n",
       "      <th>s4</th>\n",
       "      <td>TV Show</td>\n",
       "      <td>Jailbirds New Orleans</td>\n",
       "      <td>NaN</td>\n",
       "      <td>NaN</td>\n",
       "      <td>NaN</td>\n",
       "      <td>September 24, 2021</td>\n",
       "      <td>2021</td>\n",
       "      <td>TV-MA</td>\n",
       "      <td>1 Season</td>\n",
       "      <td>Docuseries, Reality TV</td>\n",
       "      <td>Feuds, flirtations and toilet talk go down amo...</td>\n",
       "    </tr>\n",
       "    <tr>\n",
       "      <th>s5</th>\n",
       "      <td>TV Show</td>\n",
       "      <td>Kota Factory</td>\n",
       "      <td>NaN</td>\n",
       "      <td>Mayur More, Jitendra Kumar, Ranjan Raj, Alam K...</td>\n",
       "      <td>India</td>\n",
       "      <td>September 24, 2021</td>\n",
       "      <td>2021</td>\n",
       "      <td>TV-MA</td>\n",
       "      <td>2 Seasons</td>\n",
       "      <td>International TV Shows, Romantic TV Shows, TV ...</td>\n",
       "      <td>In a city of coaching centers known to train I...</td>\n",
       "    </tr>\n",
       "  </tbody>\n",
       "</table>\n",
       "</div>"
      ],
      "text/plain": [
       "            type                  title         director  \\\n",
       "show_id                                                    \n",
       "s1         Movie   Dick Johnson Is Dead  Kirsten Johnson   \n",
       "s2       TV Show          Blood & Water              NaN   \n",
       "s3       TV Show              Ganglands  Julien Leclercq   \n",
       "s4       TV Show  Jailbirds New Orleans              NaN   \n",
       "s5       TV Show           Kota Factory              NaN   \n",
       "\n",
       "                                                      cast        country  \\\n",
       "show_id                                                                     \n",
       "s1                                                     NaN  United States   \n",
       "s2       Ama Qamata, Khosi Ngema, Gail Mabalane, Thaban...   South Africa   \n",
       "s3       Sami Bouajila, Tracy Gotoas, Samuel Jouy, Nabi...            NaN   \n",
       "s4                                                     NaN            NaN   \n",
       "s5       Mayur More, Jitendra Kumar, Ranjan Raj, Alam K...          India   \n",
       "\n",
       "                 date_added  release_year rating   duration  \\\n",
       "show_id                                                       \n",
       "s1       September 25, 2021          2020  PG-13     90 min   \n",
       "s2       September 24, 2021          2021  TV-MA  2 Seasons   \n",
       "s3       September 24, 2021          2021  TV-MA   1 Season   \n",
       "s4       September 24, 2021          2021  TV-MA   1 Season   \n",
       "s5       September 24, 2021          2021  TV-MA  2 Seasons   \n",
       "\n",
       "                                                 listed_in  \\\n",
       "show_id                                                      \n",
       "s1                                           Documentaries   \n",
       "s2         International TV Shows, TV Dramas, TV Mysteries   \n",
       "s3       Crime TV Shows, International TV Shows, TV Act...   \n",
       "s4                                  Docuseries, Reality TV   \n",
       "s5       International TV Shows, Romantic TV Shows, TV ...   \n",
       "\n",
       "                                               description  \n",
       "show_id                                                     \n",
       "s1       As her father nears the end of his life, filmm...  \n",
       "s2       After crossing paths at a party, a Cape Town t...  \n",
       "s3       To protect his family from a powerful drug lor...  \n",
       "s4       Feuds, flirtations and toilet talk go down amo...  \n",
       "s5       In a city of coaching centers known to train I...  "
      ]
     },
     "execution_count": 3,
     "metadata": {},
     "output_type": "execute_result"
    }
   ],
   "source": [
    "ndata.head()"
   ]
  },
  {
   "cell_type": "code",
   "execution_count": 4,
   "id": "a74e96c4",
   "metadata": {
    "execution": {
     "iopub.execute_input": "2022-01-23T14:10:48.985751Z",
     "iopub.status.busy": "2022-01-23T14:10:48.984995Z",
     "iopub.status.idle": "2022-01-23T14:10:49.021541Z",
     "shell.execute_reply": "2022-01-23T14:10:49.022206Z",
     "shell.execute_reply.started": "2022-01-23T14:09:49.224075Z"
    },
    "papermill": {
     "duration": 0.075169,
     "end_time": "2022-01-23T14:10:49.022381",
     "exception": false,
     "start_time": "2022-01-23T14:10:48.947212",
     "status": "completed"
    },
    "tags": []
   },
   "outputs": [
    {
     "name": "stdout",
     "output_type": "stream",
     "text": [
      "type               0\n",
      "title              0\n",
      "director        2634\n",
      "cast             825\n",
      "country          831\n",
      "date_added        10\n",
      "release_year       0\n",
      "rating             4\n",
      "duration           3\n",
      "listed_in          0\n",
      "description        0\n",
      "dtype: int64\n"
     ]
    },
    {
     "data": {
      "text/html": [
       "<div>\n",
       "<style scoped>\n",
       "    .dataframe tbody tr th:only-of-type {\n",
       "        vertical-align: middle;\n",
       "    }\n",
       "\n",
       "    .dataframe tbody tr th {\n",
       "        vertical-align: top;\n",
       "    }\n",
       "\n",
       "    .dataframe thead th {\n",
       "        text-align: right;\n",
       "    }\n",
       "</style>\n",
       "<table border=\"1\" class=\"dataframe\">\n",
       "  <thead>\n",
       "    <tr style=\"text-align: right;\">\n",
       "      <th></th>\n",
       "      <th>type</th>\n",
       "      <th>title</th>\n",
       "      <th>director</th>\n",
       "      <th>cast</th>\n",
       "      <th>country</th>\n",
       "      <th>date_added</th>\n",
       "      <th>release_year</th>\n",
       "      <th>rating</th>\n",
       "      <th>duration</th>\n",
       "      <th>listed_in</th>\n",
       "      <th>description</th>\n",
       "    </tr>\n",
       "    <tr>\n",
       "      <th>show_id</th>\n",
       "      <th></th>\n",
       "      <th></th>\n",
       "      <th></th>\n",
       "      <th></th>\n",
       "      <th></th>\n",
       "      <th></th>\n",
       "      <th></th>\n",
       "      <th></th>\n",
       "      <th></th>\n",
       "      <th></th>\n",
       "      <th></th>\n",
       "    </tr>\n",
       "  </thead>\n",
       "  <tbody>\n",
       "  </tbody>\n",
       "</table>\n",
       "</div>"
      ],
      "text/plain": [
       "Empty DataFrame\n",
       "Columns: [type, title, director, cast, country, date_added, release_year, rating, duration, listed_in, description]\n",
       "Index: []"
      ]
     },
     "execution_count": 4,
     "metadata": {},
     "output_type": "execute_result"
    }
   ],
   "source": [
    "ndata.dtypes\n",
    "ndata.shape\n",
    "print(ndata.isnull().sum())\n",
    "ndata[ndata.duplicated()]  # no duplicate data is avaliable.\n",
    "\n",
    "\n"
   ]
  },
  {
   "cell_type": "markdown",
   "id": "414a18d1",
   "metadata": {
    "papermill": {
     "duration": 0.023056,
     "end_time": "2022-01-23T14:10:49.069264",
     "exception": false,
     "start_time": "2022-01-23T14:10:49.046208",
     "status": "completed"
    },
    "tags": []
   },
   "source": [
    "# Data Cleaning."
   ]
  },
  {
   "cell_type": "code",
   "execution_count": 5,
   "id": "70334718",
   "metadata": {
    "execution": {
     "iopub.execute_input": "2022-01-23T14:10:49.117979Z",
     "iopub.status.busy": "2022-01-23T14:10:49.117336Z",
     "iopub.status.idle": "2022-01-23T14:10:49.147211Z",
     "shell.execute_reply": "2022-01-23T14:10:49.147791Z",
     "shell.execute_reply.started": "2022-01-23T14:09:49.276226Z"
    },
    "papermill": {
     "duration": 0.055938,
     "end_time": "2022-01-23T14:10:49.147964",
     "exception": false,
     "start_time": "2022-01-23T14:10:49.092026",
     "status": "completed"
    },
    "tags": []
   },
   "outputs": [
    {
     "data": {
      "text/plain": [
       "count        8807\n",
       "unique       4529\n",
       "top       Unknown\n",
       "freq         2634\n",
       "Name: director, dtype: object"
      ]
     },
     "execution_count": 5,
     "metadata": {},
     "output_type": "execute_result"
    }
   ],
   "source": [
    "# Director\n",
    "ndata[ndata.director.isnull()]\n",
    "#lets fill missing values with Unknown\n",
    "ndata.director.fillna('Unknown', inplace = True)\n",
    "ndata.isnull().sum()\n",
    "ndata.director.describe()"
   ]
  },
  {
   "cell_type": "code",
   "execution_count": 6,
   "id": "3bdcc0bb",
   "metadata": {
    "execution": {
     "iopub.execute_input": "2022-01-23T14:10:49.199989Z",
     "iopub.status.busy": "2022-01-23T14:10:49.199292Z",
     "iopub.status.idle": "2022-01-23T14:10:49.216917Z",
     "shell.execute_reply": "2022-01-23T14:10:49.217486Z",
     "shell.execute_reply.started": "2022-01-23T14:09:49.308808Z"
    },
    "papermill": {
     "duration": 0.045081,
     "end_time": "2022-01-23T14:10:49.217663",
     "exception": false,
     "start_time": "2022-01-23T14:10:49.172582",
     "status": "completed"
    },
    "tags": []
   },
   "outputs": [
    {
     "data": {
      "text/plain": [
       "0"
      ]
     },
     "execution_count": 6,
     "metadata": {},
     "output_type": "execute_result"
    }
   ],
   "source": [
    "# Cast, 825 are NaN\n",
    "ndata.cast.dtype\n",
    "ndata.cast.describe()\n",
    "ndata[ndata.cast.isnull()]\n",
    "# it think, filling will Unknown would be good.\n",
    "ndata.cast.fillna(\"Unknown\", inplace = True)\n",
    "ndata.cast.isnull().sum()"
   ]
  },
  {
   "cell_type": "code",
   "execution_count": 7,
   "id": "a71eff39",
   "metadata": {
    "execution": {
     "iopub.execute_input": "2022-01-23T14:10:49.270225Z",
     "iopub.status.busy": "2022-01-23T14:10:49.269542Z",
     "iopub.status.idle": "2022-01-23T14:10:49.295455Z",
     "shell.execute_reply": "2022-01-23T14:10:49.294783Z",
     "shell.execute_reply.started": "2022-01-23T14:09:49.331665Z"
    },
    "papermill": {
     "duration": 0.053752,
     "end_time": "2022-01-23T14:10:49.295598",
     "exception": false,
     "start_time": "2022-01-23T14:10:49.241846",
     "status": "completed"
    },
    "tags": []
   },
   "outputs": [
    {
     "data": {
      "text/plain": [
       "type             0\n",
       "title            0\n",
       "director         0\n",
       "cast             0\n",
       "country          0\n",
       "date_added      10\n",
       "release_year     0\n",
       "rating           4\n",
       "duration         3\n",
       "listed_in        0\n",
       "description      0\n",
       "dtype: int64"
      ]
     },
     "execution_count": 7,
     "metadata": {},
     "output_type": "execute_result"
    }
   ],
   "source": [
    "# Country, 831 NaN values.\n",
    "ndata.country.describe()\n",
    "ndata.country.fillna('Unknown', inplace = True )\n",
    "ndata.isnull().sum()"
   ]
  },
  {
   "cell_type": "code",
   "execution_count": 8,
   "id": "f3e3697d",
   "metadata": {
    "execution": {
     "iopub.execute_input": "2022-01-23T14:10:49.392863Z",
     "iopub.status.busy": "2022-01-23T14:10:49.356326Z",
     "iopub.status.idle": "2022-01-23T14:10:49.554327Z",
     "shell.execute_reply": "2022-01-23T14:10:49.553742Z",
     "shell.execute_reply.started": "2022-01-23T14:09:49.358799Z"
    },
    "papermill": {
     "duration": 0.234699,
     "end_time": "2022-01-23T14:10:49.554476",
     "exception": false,
     "start_time": "2022-01-23T14:10:49.319777",
     "status": "completed"
    },
    "tags": []
   },
   "outputs": [
    {
     "data": {
      "text/plain": [
       "0"
      ]
     },
     "execution_count": 8,
     "metadata": {},
     "output_type": "execute_result"
    }
   ],
   "source": [
    "ndata.date_added.isnull().sum()\n",
    "ndata.date_added.fillna(99, inplace = True)\n",
    "ndata.date_added = pd.to_datetime(ndata.date_added)\n",
    "ndata.date_added.isnull().sum()"
   ]
  },
  {
   "cell_type": "code",
   "execution_count": 9,
   "id": "3165104a",
   "metadata": {
    "execution": {
     "iopub.execute_input": "2022-01-23T14:10:49.617803Z",
     "iopub.status.busy": "2022-01-23T14:10:49.614394Z",
     "iopub.status.idle": "2022-01-23T14:10:49.623016Z",
     "shell.execute_reply": "2022-01-23T14:10:49.622397Z",
     "shell.execute_reply.started": "2022-01-23T14:09:49.564969Z"
    },
    "papermill": {
     "duration": 0.044768,
     "end_time": "2022-01-23T14:10:49.623182",
     "exception": false,
     "start_time": "2022-01-23T14:10:49.578414",
     "status": "completed"
    },
    "tags": []
   },
   "outputs": [
    {
     "name": "stdout",
     "output_type": "stream",
     "text": [
      "TV-MA\n"
     ]
    },
    {
     "data": {
      "text/plain": [
       "0"
      ]
     },
     "execution_count": 9,
     "metadata": {},
     "output_type": "execute_result"
    }
   ],
   "source": [
    "# Rating, 4 NaN values\n",
    "ndata.rating.dtype\n",
    "ndata.rating.describe()\n",
    "# filling with mode, would be suitable.\n",
    "n = ndata.rating.mode()[0]\n",
    "print(n)\n",
    "ndata.rating.fillna(n, inplace = True)\n",
    "ndata.rating.isnull().sum()\n"
   ]
  },
  {
   "cell_type": "code",
   "execution_count": 10,
   "id": "fe0c1cc9",
   "metadata": {
    "execution": {
     "iopub.execute_input": "2022-01-23T14:10:49.695872Z",
     "iopub.status.busy": "2022-01-23T14:10:49.695144Z",
     "iopub.status.idle": "2022-01-23T14:10:49.701546Z",
     "shell.execute_reply": "2022-01-23T14:10:49.702059Z",
     "shell.execute_reply.started": "2022-01-23T14:09:49.582217Z"
    },
    "papermill": {
     "duration": 0.054223,
     "end_time": "2022-01-23T14:10:49.702239",
     "exception": false,
     "start_time": "2022-01-23T14:10:49.648016",
     "status": "completed"
    },
    "tags": []
   },
   "outputs": [
    {
     "data": {
      "text/plain": [
       "type            0\n",
       "title           0\n",
       "director        0\n",
       "cast            0\n",
       "country         0\n",
       "date_added      0\n",
       "release_year    0\n",
       "rating          0\n",
       "duration        0\n",
       "listed_in       0\n",
       "description     0\n",
       "dtype: int64"
      ]
     },
     "execution_count": 10,
     "metadata": {},
     "output_type": "execute_result"
    }
   ],
   "source": [
    "# Duration, 3 NaN values\n",
    "ndata.duration.describe()\n",
    "ndata.duration.mode()\n",
    "# let's fill with mode value\n",
    "ndata.duration.fillna(ndata.duration.mode()[0], inplace = True)\n",
    "ndata.isnull().sum()"
   ]
  },
  {
   "cell_type": "markdown",
   "id": "7e106b5d",
   "metadata": {
    "papermill": {
     "duration": 0.024415,
     "end_time": "2022-01-23T14:10:49.752221",
     "exception": false,
     "start_time": "2022-01-23T14:10:49.727806",
     "status": "completed"
    },
    "tags": []
   },
   "source": [
    "# Transformation of Some Columns"
   ]
  },
  {
   "cell_type": "code",
   "execution_count": 11,
   "id": "68a9a589",
   "metadata": {
    "execution": {
     "iopub.execute_input": "2022-01-23T14:10:49.804750Z",
     "iopub.status.busy": "2022-01-23T14:10:49.804110Z",
     "iopub.status.idle": "2022-01-23T14:10:49.819477Z",
     "shell.execute_reply": "2022-01-23T14:10:49.820063Z",
     "shell.execute_reply.started": "2022-01-23T14:09:49.615595Z"
    },
    "papermill": {
     "duration": 0.043356,
     "end_time": "2022-01-23T14:10:49.820326",
     "exception": false,
     "start_time": "2022-01-23T14:10:49.776970",
     "status": "completed"
    },
    "tags": []
   },
   "outputs": [
    {
     "data": {
      "text/html": [
       "<div>\n",
       "<style scoped>\n",
       "    .dataframe tbody tr th:only-of-type {\n",
       "        vertical-align: middle;\n",
       "    }\n",
       "\n",
       "    .dataframe tbody tr th {\n",
       "        vertical-align: top;\n",
       "    }\n",
       "\n",
       "    .dataframe thead th {\n",
       "        text-align: right;\n",
       "    }\n",
       "</style>\n",
       "<table border=\"1\" class=\"dataframe\">\n",
       "  <thead>\n",
       "    <tr style=\"text-align: right;\">\n",
       "      <th></th>\n",
       "      <th>type</th>\n",
       "      <th>title</th>\n",
       "      <th>director</th>\n",
       "      <th>cast</th>\n",
       "      <th>country</th>\n",
       "      <th>date_added</th>\n",
       "      <th>release_year</th>\n",
       "      <th>rating</th>\n",
       "      <th>duration</th>\n",
       "      <th>listed_in</th>\n",
       "      <th>description</th>\n",
       "    </tr>\n",
       "    <tr>\n",
       "      <th>show_id</th>\n",
       "      <th></th>\n",
       "      <th></th>\n",
       "      <th></th>\n",
       "      <th></th>\n",
       "      <th></th>\n",
       "      <th></th>\n",
       "      <th></th>\n",
       "      <th></th>\n",
       "      <th></th>\n",
       "      <th></th>\n",
       "      <th></th>\n",
       "    </tr>\n",
       "  </thead>\n",
       "  <tbody>\n",
       "    <tr>\n",
       "      <th>s1</th>\n",
       "      <td>Movie</td>\n",
       "      <td>Dick Johnson Is Dead</td>\n",
       "      <td>Kirsten Johnson</td>\n",
       "      <td>Unknown</td>\n",
       "      <td>United States</td>\n",
       "      <td>2021-09-25</td>\n",
       "      <td>2020</td>\n",
       "      <td>PG-13</td>\n",
       "      <td>90 min</td>\n",
       "      <td>Documentaries</td>\n",
       "      <td>As her father nears the end of his life, filmm...</td>\n",
       "    </tr>\n",
       "    <tr>\n",
       "      <th>s2</th>\n",
       "      <td>TV Show</td>\n",
       "      <td>Blood &amp; Water</td>\n",
       "      <td>Unknown</td>\n",
       "      <td>Ama Qamata, Khosi Ngema, Gail Mabalane, Thaban...</td>\n",
       "      <td>South Africa</td>\n",
       "      <td>2021-09-24</td>\n",
       "      <td>2021</td>\n",
       "      <td>TV-MA</td>\n",
       "      <td>2 Seasons</td>\n",
       "      <td>International TV Shows, TV Dramas, TV Mysteries</td>\n",
       "      <td>After crossing paths at a party, a Cape Town t...</td>\n",
       "    </tr>\n",
       "    <tr>\n",
       "      <th>s3</th>\n",
       "      <td>TV Show</td>\n",
       "      <td>Ganglands</td>\n",
       "      <td>Julien Leclercq</td>\n",
       "      <td>Sami Bouajila, Tracy Gotoas, Samuel Jouy, Nabi...</td>\n",
       "      <td>Unknown</td>\n",
       "      <td>2021-09-24</td>\n",
       "      <td>2021</td>\n",
       "      <td>TV-MA</td>\n",
       "      <td>1 Season</td>\n",
       "      <td>Crime TV Shows, International TV Shows, TV Act...</td>\n",
       "      <td>To protect his family from a powerful drug lor...</td>\n",
       "    </tr>\n",
       "    <tr>\n",
       "      <th>s4</th>\n",
       "      <td>TV Show</td>\n",
       "      <td>Jailbirds New Orleans</td>\n",
       "      <td>Unknown</td>\n",
       "      <td>Unknown</td>\n",
       "      <td>Unknown</td>\n",
       "      <td>2021-09-24</td>\n",
       "      <td>2021</td>\n",
       "      <td>TV-MA</td>\n",
       "      <td>1 Season</td>\n",
       "      <td>Docuseries, Reality TV</td>\n",
       "      <td>Feuds, flirtations and toilet talk go down amo...</td>\n",
       "    </tr>\n",
       "    <tr>\n",
       "      <th>s5</th>\n",
       "      <td>TV Show</td>\n",
       "      <td>Kota Factory</td>\n",
       "      <td>Unknown</td>\n",
       "      <td>Mayur More, Jitendra Kumar, Ranjan Raj, Alam K...</td>\n",
       "      <td>India</td>\n",
       "      <td>2021-09-24</td>\n",
       "      <td>2021</td>\n",
       "      <td>TV-MA</td>\n",
       "      <td>2 Seasons</td>\n",
       "      <td>International TV Shows, Romantic TV Shows, TV ...</td>\n",
       "      <td>In a city of coaching centers known to train I...</td>\n",
       "    </tr>\n",
       "  </tbody>\n",
       "</table>\n",
       "</div>"
      ],
      "text/plain": [
       "            type                  title         director  \\\n",
       "show_id                                                    \n",
       "s1         Movie   Dick Johnson Is Dead  Kirsten Johnson   \n",
       "s2       TV Show          Blood & Water          Unknown   \n",
       "s3       TV Show              Ganglands  Julien Leclercq   \n",
       "s4       TV Show  Jailbirds New Orleans          Unknown   \n",
       "s5       TV Show           Kota Factory          Unknown   \n",
       "\n",
       "                                                      cast        country  \\\n",
       "show_id                                                                     \n",
       "s1                                                 Unknown  United States   \n",
       "s2       Ama Qamata, Khosi Ngema, Gail Mabalane, Thaban...   South Africa   \n",
       "s3       Sami Bouajila, Tracy Gotoas, Samuel Jouy, Nabi...        Unknown   \n",
       "s4                                                 Unknown        Unknown   \n",
       "s5       Mayur More, Jitendra Kumar, Ranjan Raj, Alam K...          India   \n",
       "\n",
       "        date_added  release_year rating   duration  \\\n",
       "show_id                                              \n",
       "s1      2021-09-25          2020  PG-13     90 min   \n",
       "s2      2021-09-24          2021  TV-MA  2 Seasons   \n",
       "s3      2021-09-24          2021  TV-MA   1 Season   \n",
       "s4      2021-09-24          2021  TV-MA   1 Season   \n",
       "s5      2021-09-24          2021  TV-MA  2 Seasons   \n",
       "\n",
       "                                                 listed_in  \\\n",
       "show_id                                                      \n",
       "s1                                           Documentaries   \n",
       "s2         International TV Shows, TV Dramas, TV Mysteries   \n",
       "s3       Crime TV Shows, International TV Shows, TV Act...   \n",
       "s4                                  Docuseries, Reality TV   \n",
       "s5       International TV Shows, Romantic TV Shows, TV ...   \n",
       "\n",
       "                                               description  \n",
       "show_id                                                     \n",
       "s1       As her father nears the end of his life, filmm...  \n",
       "s2       After crossing paths at a party, a Cape Town t...  \n",
       "s3       To protect his family from a powerful drug lor...  \n",
       "s4       Feuds, flirtations and toilet talk go down amo...  \n",
       "s5       In a city of coaching centers known to train I...  "
      ]
     },
     "execution_count": 11,
     "metadata": {},
     "output_type": "execute_result"
    }
   ],
   "source": [
    "ndata.head()"
   ]
  },
  {
   "cell_type": "code",
   "execution_count": 12,
   "id": "a6b8a7cd",
   "metadata": {
    "execution": {
     "iopub.execute_input": "2022-01-23T14:10:49.878929Z",
     "iopub.status.busy": "2022-01-23T14:10:49.877989Z",
     "iopub.status.idle": "2022-01-23T14:10:49.898434Z",
     "shell.execute_reply": "2022-01-23T14:10:49.898934Z",
     "shell.execute_reply.started": "2022-01-23T14:09:49.636415Z"
    },
    "papermill": {
     "duration": 0.051786,
     "end_time": "2022-01-23T14:10:49.899136",
     "exception": false,
     "start_time": "2022-01-23T14:10:49.847350",
     "status": "completed"
    },
    "tags": []
   },
   "outputs": [],
   "source": [
    "# let's have a look on listed_in\n",
    "ndata.listed_in.describe()\n",
    "ndata.description.describe()\n",
    "# I think listed_in and Description are not as much beneficial as rest, so let's drop these features.\n",
    "ndata.drop('listed_in', axis=1, inplace = True)\n",
    "ndata.drop('description', axis=1, inplace = True)\n"
   ]
  },
  {
   "cell_type": "markdown",
   "id": "aff8c9d7",
   "metadata": {
    "papermill": {
     "duration": 0.026224,
     "end_time": "2022-01-23T14:10:49.951003",
     "exception": false,
     "start_time": "2022-01-23T14:10:49.924779",
     "status": "completed"
    },
    "tags": []
   },
   "source": [
    "# Insights "
   ]
  },
  {
   "cell_type": "code",
   "execution_count": 13,
   "id": "43ae5a69",
   "metadata": {
    "execution": {
     "iopub.execute_input": "2022-01-23T14:10:50.005151Z",
     "iopub.status.busy": "2022-01-23T14:10:50.004505Z",
     "iopub.status.idle": "2022-01-23T14:10:50.018162Z",
     "shell.execute_reply": "2022-01-23T14:10:50.018630Z",
     "shell.execute_reply.started": "2022-01-23T14:09:49.662058Z"
    },
    "papermill": {
     "duration": 0.042244,
     "end_time": "2022-01-23T14:10:50.018809",
     "exception": false,
     "start_time": "2022-01-23T14:10:49.976565",
     "status": "completed"
    },
    "tags": []
   },
   "outputs": [
    {
     "data": {
      "text/html": [
       "<div>\n",
       "<style scoped>\n",
       "    .dataframe tbody tr th:only-of-type {\n",
       "        vertical-align: middle;\n",
       "    }\n",
       "\n",
       "    .dataframe tbody tr th {\n",
       "        vertical-align: top;\n",
       "    }\n",
       "\n",
       "    .dataframe thead th {\n",
       "        text-align: right;\n",
       "    }\n",
       "</style>\n",
       "<table border=\"1\" class=\"dataframe\">\n",
       "  <thead>\n",
       "    <tr style=\"text-align: right;\">\n",
       "      <th></th>\n",
       "      <th>type</th>\n",
       "      <th>title</th>\n",
       "      <th>director</th>\n",
       "      <th>cast</th>\n",
       "      <th>country</th>\n",
       "      <th>date_added</th>\n",
       "      <th>release_year</th>\n",
       "      <th>rating</th>\n",
       "      <th>duration</th>\n",
       "    </tr>\n",
       "    <tr>\n",
       "      <th>show_id</th>\n",
       "      <th></th>\n",
       "      <th></th>\n",
       "      <th></th>\n",
       "      <th></th>\n",
       "      <th></th>\n",
       "      <th></th>\n",
       "      <th></th>\n",
       "      <th></th>\n",
       "      <th></th>\n",
       "    </tr>\n",
       "  </thead>\n",
       "  <tbody>\n",
       "    <tr>\n",
       "      <th>s1</th>\n",
       "      <td>Movie</td>\n",
       "      <td>Dick Johnson Is Dead</td>\n",
       "      <td>Kirsten Johnson</td>\n",
       "      <td>Unknown</td>\n",
       "      <td>United States</td>\n",
       "      <td>2021-09-25</td>\n",
       "      <td>2020</td>\n",
       "      <td>PG-13</td>\n",
       "      <td>90 min</td>\n",
       "    </tr>\n",
       "    <tr>\n",
       "      <th>s2</th>\n",
       "      <td>TV Show</td>\n",
       "      <td>Blood &amp; Water</td>\n",
       "      <td>Unknown</td>\n",
       "      <td>Ama Qamata, Khosi Ngema, Gail Mabalane, Thaban...</td>\n",
       "      <td>South Africa</td>\n",
       "      <td>2021-09-24</td>\n",
       "      <td>2021</td>\n",
       "      <td>TV-MA</td>\n",
       "      <td>2 Seasons</td>\n",
       "    </tr>\n",
       "    <tr>\n",
       "      <th>s3</th>\n",
       "      <td>TV Show</td>\n",
       "      <td>Ganglands</td>\n",
       "      <td>Julien Leclercq</td>\n",
       "      <td>Sami Bouajila, Tracy Gotoas, Samuel Jouy, Nabi...</td>\n",
       "      <td>Unknown</td>\n",
       "      <td>2021-09-24</td>\n",
       "      <td>2021</td>\n",
       "      <td>TV-MA</td>\n",
       "      <td>1 Season</td>\n",
       "    </tr>\n",
       "    <tr>\n",
       "      <th>s4</th>\n",
       "      <td>TV Show</td>\n",
       "      <td>Jailbirds New Orleans</td>\n",
       "      <td>Unknown</td>\n",
       "      <td>Unknown</td>\n",
       "      <td>Unknown</td>\n",
       "      <td>2021-09-24</td>\n",
       "      <td>2021</td>\n",
       "      <td>TV-MA</td>\n",
       "      <td>1 Season</td>\n",
       "    </tr>\n",
       "    <tr>\n",
       "      <th>s5</th>\n",
       "      <td>TV Show</td>\n",
       "      <td>Kota Factory</td>\n",
       "      <td>Unknown</td>\n",
       "      <td>Mayur More, Jitendra Kumar, Ranjan Raj, Alam K...</td>\n",
       "      <td>India</td>\n",
       "      <td>2021-09-24</td>\n",
       "      <td>2021</td>\n",
       "      <td>TV-MA</td>\n",
       "      <td>2 Seasons</td>\n",
       "    </tr>\n",
       "  </tbody>\n",
       "</table>\n",
       "</div>"
      ],
      "text/plain": [
       "            type                  title         director  \\\n",
       "show_id                                                    \n",
       "s1         Movie   Dick Johnson Is Dead  Kirsten Johnson   \n",
       "s2       TV Show          Blood & Water          Unknown   \n",
       "s3       TV Show              Ganglands  Julien Leclercq   \n",
       "s4       TV Show  Jailbirds New Orleans          Unknown   \n",
       "s5       TV Show           Kota Factory          Unknown   \n",
       "\n",
       "                                                      cast        country  \\\n",
       "show_id                                                                     \n",
       "s1                                                 Unknown  United States   \n",
       "s2       Ama Qamata, Khosi Ngema, Gail Mabalane, Thaban...   South Africa   \n",
       "s3       Sami Bouajila, Tracy Gotoas, Samuel Jouy, Nabi...        Unknown   \n",
       "s4                                                 Unknown        Unknown   \n",
       "s5       Mayur More, Jitendra Kumar, Ranjan Raj, Alam K...          India   \n",
       "\n",
       "        date_added  release_year rating   duration  \n",
       "show_id                                             \n",
       "s1      2021-09-25          2020  PG-13     90 min  \n",
       "s2      2021-09-24          2021  TV-MA  2 Seasons  \n",
       "s3      2021-09-24          2021  TV-MA   1 Season  \n",
       "s4      2021-09-24          2021  TV-MA   1 Season  \n",
       "s5      2021-09-24          2021  TV-MA  2 Seasons  "
      ]
     },
     "execution_count": 13,
     "metadata": {},
     "output_type": "execute_result"
    }
   ],
   "source": [
    "ndata.head()"
   ]
  },
  {
   "cell_type": "markdown",
   "id": "1370c23a",
   "metadata": {
    "papermill": {
     "duration": 0.025898,
     "end_time": "2022-01-23T14:10:50.070788",
     "exception": false,
     "start_time": "2022-01-23T14:10:50.044890",
     "status": "completed"
    },
    "tags": []
   },
   "source": [
    "# Question # 1 \n",
    "## Those Years, in which most movies were created\n"
   ]
  },
  {
   "cell_type": "code",
   "execution_count": 14,
   "id": "16bd27b5",
   "metadata": {
    "execution": {
     "iopub.execute_input": "2022-01-23T14:10:50.126473Z",
     "iopub.status.busy": "2022-01-23T14:10:50.125782Z",
     "iopub.status.idle": "2022-01-23T14:10:50.138958Z",
     "shell.execute_reply": "2022-01-23T14:10:50.139535Z",
     "shell.execute_reply.started": "2022-01-23T14:09:49.679683Z"
    },
    "papermill": {
     "duration": 0.042837,
     "end_time": "2022-01-23T14:10:50.139725",
     "exception": false,
     "start_time": "2022-01-23T14:10:50.096888",
     "status": "completed"
    },
    "tags": []
   },
   "outputs": [
    {
     "data": {
      "text/html": [
       "<div>\n",
       "<style scoped>\n",
       "    .dataframe tbody tr th:only-of-type {\n",
       "        vertical-align: middle;\n",
       "    }\n",
       "\n",
       "    .dataframe tbody tr th {\n",
       "        vertical-align: top;\n",
       "    }\n",
       "\n",
       "    .dataframe thead th {\n",
       "        text-align: right;\n",
       "    }\n",
       "</style>\n",
       "<table border=\"1\" class=\"dataframe\">\n",
       "  <thead>\n",
       "    <tr style=\"text-align: right;\">\n",
       "      <th></th>\n",
       "      <th>type</th>\n",
       "      <th>title</th>\n",
       "      <th>director</th>\n",
       "      <th>cast</th>\n",
       "      <th>country</th>\n",
       "      <th>date_added</th>\n",
       "      <th>release_year</th>\n",
       "      <th>rating</th>\n",
       "      <th>duration</th>\n",
       "    </tr>\n",
       "    <tr>\n",
       "      <th>show_id</th>\n",
       "      <th></th>\n",
       "      <th></th>\n",
       "      <th></th>\n",
       "      <th></th>\n",
       "      <th></th>\n",
       "      <th></th>\n",
       "      <th></th>\n",
       "      <th></th>\n",
       "      <th></th>\n",
       "    </tr>\n",
       "  </thead>\n",
       "  <tbody>\n",
       "    <tr>\n",
       "      <th>s1</th>\n",
       "      <td>Movie</td>\n",
       "      <td>Dick Johnson Is Dead</td>\n",
       "      <td>Kirsten Johnson</td>\n",
       "      <td>Unknown</td>\n",
       "      <td>United States</td>\n",
       "      <td>2021-09-25</td>\n",
       "      <td>2020</td>\n",
       "      <td>PG-13</td>\n",
       "      <td>90 min</td>\n",
       "    </tr>\n",
       "    <tr>\n",
       "      <th>s2</th>\n",
       "      <td>TV Show</td>\n",
       "      <td>Blood &amp; Water</td>\n",
       "      <td>Unknown</td>\n",
       "      <td>Ama Qamata, Khosi Ngema, Gail Mabalane, Thaban...</td>\n",
       "      <td>South Africa</td>\n",
       "      <td>2021-09-24</td>\n",
       "      <td>2021</td>\n",
       "      <td>TV-MA</td>\n",
       "      <td>2 Seasons</td>\n",
       "    </tr>\n",
       "    <tr>\n",
       "      <th>s3</th>\n",
       "      <td>TV Show</td>\n",
       "      <td>Ganglands</td>\n",
       "      <td>Julien Leclercq</td>\n",
       "      <td>Sami Bouajila, Tracy Gotoas, Samuel Jouy, Nabi...</td>\n",
       "      <td>Unknown</td>\n",
       "      <td>2021-09-24</td>\n",
       "      <td>2021</td>\n",
       "      <td>TV-MA</td>\n",
       "      <td>1 Season</td>\n",
       "    </tr>\n",
       "    <tr>\n",
       "      <th>s4</th>\n",
       "      <td>TV Show</td>\n",
       "      <td>Jailbirds New Orleans</td>\n",
       "      <td>Unknown</td>\n",
       "      <td>Unknown</td>\n",
       "      <td>Unknown</td>\n",
       "      <td>2021-09-24</td>\n",
       "      <td>2021</td>\n",
       "      <td>TV-MA</td>\n",
       "      <td>1 Season</td>\n",
       "    </tr>\n",
       "    <tr>\n",
       "      <th>s5</th>\n",
       "      <td>TV Show</td>\n",
       "      <td>Kota Factory</td>\n",
       "      <td>Unknown</td>\n",
       "      <td>Mayur More, Jitendra Kumar, Ranjan Raj, Alam K...</td>\n",
       "      <td>India</td>\n",
       "      <td>2021-09-24</td>\n",
       "      <td>2021</td>\n",
       "      <td>TV-MA</td>\n",
       "      <td>2 Seasons</td>\n",
       "    </tr>\n",
       "  </tbody>\n",
       "</table>\n",
       "</div>"
      ],
      "text/plain": [
       "            type                  title         director  \\\n",
       "show_id                                                    \n",
       "s1         Movie   Dick Johnson Is Dead  Kirsten Johnson   \n",
       "s2       TV Show          Blood & Water          Unknown   \n",
       "s3       TV Show              Ganglands  Julien Leclercq   \n",
       "s4       TV Show  Jailbirds New Orleans          Unknown   \n",
       "s5       TV Show           Kota Factory          Unknown   \n",
       "\n",
       "                                                      cast        country  \\\n",
       "show_id                                                                     \n",
       "s1                                                 Unknown  United States   \n",
       "s2       Ama Qamata, Khosi Ngema, Gail Mabalane, Thaban...   South Africa   \n",
       "s3       Sami Bouajila, Tracy Gotoas, Samuel Jouy, Nabi...        Unknown   \n",
       "s4                                                 Unknown        Unknown   \n",
       "s5       Mayur More, Jitendra Kumar, Ranjan Raj, Alam K...          India   \n",
       "\n",
       "        date_added  release_year rating   duration  \n",
       "show_id                                             \n",
       "s1      2021-09-25          2020  PG-13     90 min  \n",
       "s2      2021-09-24          2021  TV-MA  2 Seasons  \n",
       "s3      2021-09-24          2021  TV-MA   1 Season  \n",
       "s4      2021-09-24          2021  TV-MA   1 Season  \n",
       "s5      2021-09-24          2021  TV-MA  2 Seasons  "
      ]
     },
     "execution_count": 14,
     "metadata": {},
     "output_type": "execute_result"
    }
   ],
   "source": [
    "ndata.head()"
   ]
  },
  {
   "cell_type": "code",
   "execution_count": 15,
   "id": "df71e25c",
   "metadata": {
    "execution": {
     "iopub.execute_input": "2022-01-23T14:10:50.198555Z",
     "iopub.status.busy": "2022-01-23T14:10:50.197896Z",
     "iopub.status.idle": "2022-01-23T14:10:50.642970Z",
     "shell.execute_reply": "2022-01-23T14:10:50.643513Z",
     "shell.execute_reply.started": "2022-01-23T14:09:49.698353Z"
    },
    "papermill": {
     "duration": 0.475566,
     "end_time": "2022-01-23T14:10:50.643679",
     "exception": false,
     "start_time": "2022-01-23T14:10:50.168113",
     "status": "completed"
    },
    "tags": []
   },
   "outputs": [
    {
     "data": {
      "image/png": "[encoded data removed]",
      "text/plain": [
       "<Figure size 720x1080 with 1 Axes>"
      ]
     },
     "metadata": {},
     "output_type": "display_data"
    }
   ],
   "source": [
    "plt.figure(figsize=(10,15))\n",
    "total = ndata.release_year.value_counts()\n",
    "years= ndata.release_year.unique()\n",
    "data= total[:10]\n",
    "labels = years[:10]\n",
    "plt.pie(data, labels= labels, autopct='%1.1f%%', shadow=True, startangle=90)\n",
    "plt.title('Total percentage of movies made in perticular year', weight = 'bold', size =25, color='b')\n",
    "plt.tight_layout()\n",
    "plt.show()\n"
   ]
  },
  {
   "cell_type": "markdown",
   "id": "68002e7d",
   "metadata": {
    "papermill": {
     "duration": 0.029276,
     "end_time": "2022-01-23T14:10:50.701813",
     "exception": false,
     "start_time": "2022-01-23T14:10:50.672537",
     "status": "completed"
    },
    "tags": []
   },
   "source": [
    "## Which Top countries are used for creating TV shows and movies"
   ]
  },
  {
   "cell_type": "code",
   "execution_count": 16,
   "id": "86822147",
   "metadata": {
    "execution": {
     "iopub.execute_input": "2022-01-23T14:10:50.774882Z",
     "iopub.status.busy": "2022-01-23T14:10:50.762712Z",
     "iopub.status.idle": "2022-01-23T14:10:50.778417Z",
     "shell.execute_reply": "2022-01-23T14:10:50.779020Z",
     "shell.execute_reply.started": "2022-01-23T14:09:50.086714Z"
    },
    "papermill": {
     "duration": 0.048475,
     "end_time": "2022-01-23T14:10:50.779215",
     "exception": false,
     "start_time": "2022-01-23T14:10:50.730740",
     "status": "completed"
    },
    "tags": []
   },
   "outputs": [
    {
     "data": {
      "text/html": [
       "<div>\n",
       "<style scoped>\n",
       "    .dataframe tbody tr th:only-of-type {\n",
       "        vertical-align: middle;\n",
       "    }\n",
       "\n",
       "    .dataframe tbody tr th {\n",
       "        vertical-align: top;\n",
       "    }\n",
       "\n",
       "    .dataframe thead th {\n",
       "        text-align: right;\n",
       "    }\n",
       "</style>\n",
       "<table border=\"1\" class=\"dataframe\">\n",
       "  <thead>\n",
       "    <tr style=\"text-align: right;\">\n",
       "      <th></th>\n",
       "      <th>type</th>\n",
       "      <th>title</th>\n",
       "      <th>director</th>\n",
       "      <th>cast</th>\n",
       "      <th>country</th>\n",
       "      <th>date_added</th>\n",
       "      <th>release_year</th>\n",
       "      <th>rating</th>\n",
       "      <th>duration</th>\n",
       "    </tr>\n",
       "    <tr>\n",
       "      <th>show_id</th>\n",
       "      <th></th>\n",
       "      <th></th>\n",
       "      <th></th>\n",
       "      <th></th>\n",
       "      <th></th>\n",
       "      <th></th>\n",
       "      <th></th>\n",
       "      <th></th>\n",
       "      <th></th>\n",
       "    </tr>\n",
       "  </thead>\n",
       "  <tbody>\n",
       "    <tr>\n",
       "      <th>s1</th>\n",
       "      <td>Movie</td>\n",
       "      <td>Dick Johnson Is Dead</td>\n",
       "      <td>Kirsten Johnson</td>\n",
       "      <td>Unknown</td>\n",
       "      <td>United States</td>\n",
       "      <td>2021-09-25</td>\n",
       "      <td>2020</td>\n",
       "      <td>PG-13</td>\n",
       "      <td>90 min</td>\n",
       "    </tr>\n",
       "    <tr>\n",
       "      <th>s2</th>\n",
       "      <td>TV Show</td>\n",
       "      <td>Blood &amp; Water</td>\n",
       "      <td>Unknown</td>\n",
       "      <td>Ama Qamata, Khosi Ngema, Gail Mabalane, Thaban...</td>\n",
       "      <td>South Africa</td>\n",
       "      <td>2021-09-24</td>\n",
       "      <td>2021</td>\n",
       "      <td>TV-MA</td>\n",
       "      <td>2 Seasons</td>\n",
       "    </tr>\n",
       "    <tr>\n",
       "      <th>s3</th>\n",
       "      <td>TV Show</td>\n",
       "      <td>Ganglands</td>\n",
       "      <td>Julien Leclercq</td>\n",
       "      <td>Sami Bouajila, Tracy Gotoas, Samuel Jouy, Nabi...</td>\n",
       "      <td>Unknown</td>\n",
       "      <td>2021-09-24</td>\n",
       "      <td>2021</td>\n",
       "      <td>TV-MA</td>\n",
       "      <td>1 Season</td>\n",
       "    </tr>\n",
       "    <tr>\n",
       "      <th>s4</th>\n",
       "      <td>TV Show</td>\n",
       "      <td>Jailbirds New Orleans</td>\n",
       "      <td>Unknown</td>\n",
       "      <td>Unknown</td>\n",
       "      <td>Unknown</td>\n",
       "      <td>2021-09-24</td>\n",
       "      <td>2021</td>\n",
       "      <td>TV-MA</td>\n",
       "      <td>1 Season</td>\n",
       "    </tr>\n",
       "    <tr>\n",
       "      <th>s5</th>\n",
       "      <td>TV Show</td>\n",
       "      <td>Kota Factory</td>\n",
       "      <td>Unknown</td>\n",
       "      <td>Mayur More, Jitendra Kumar, Ranjan Raj, Alam K...</td>\n",
       "      <td>India</td>\n",
       "      <td>2021-09-24</td>\n",
       "      <td>2021</td>\n",
       "      <td>TV-MA</td>\n",
       "      <td>2 Seasons</td>\n",
       "    </tr>\n",
       "  </tbody>\n",
       "</table>\n",
       "</div>"
      ],
      "text/plain": [
       "            type                  title         director  \\\n",
       "show_id                                                    \n",
       "s1         Movie   Dick Johnson Is Dead  Kirsten Johnson   \n",
       "s2       TV Show          Blood & Water          Unknown   \n",
       "s3       TV Show              Ganglands  Julien Leclercq   \n",
       "s4       TV Show  Jailbirds New Orleans          Unknown   \n",
       "s5       TV Show           Kota Factory          Unknown   \n",
       "\n",
       "                                                      cast        country  \\\n",
       "show_id                                                                     \n",
       "s1                                                 Unknown  United States   \n",
       "s2       Ama Qamata, Khosi Ngema, Gail Mabalane, Thaban...   South Africa   \n",
       "s3       Sami Bouajila, Tracy Gotoas, Samuel Jouy, Nabi...        Unknown   \n",
       "s4                                                 Unknown        Unknown   \n",
       "s5       Mayur More, Jitendra Kumar, Ranjan Raj, Alam K...          India   \n",
       "\n",
       "        date_added  release_year rating   duration  \n",
       "show_id                                             \n",
       "s1      2021-09-25          2020  PG-13     90 min  \n",
       "s2      2021-09-24          2021  TV-MA  2 Seasons  \n",
       "s3      2021-09-24          2021  TV-MA   1 Season  \n",
       "s4      2021-09-24          2021  TV-MA   1 Season  \n",
       "s5      2021-09-24          2021  TV-MA  2 Seasons  "
      ]
     },
     "execution_count": 16,
     "metadata": {},
     "output_type": "execute_result"
    }
   ],
   "source": [
    "ndata.head()"
   ]
  },
  {
   "cell_type": "code",
   "execution_count": 17,
   "id": "c988e3c6",
   "metadata": {
    "execution": {
     "iopub.execute_input": "2022-01-23T14:10:50.842768Z",
     "iopub.status.busy": "2022-01-23T14:10:50.841976Z",
     "iopub.status.idle": "2022-01-23T14:10:51.110698Z",
     "shell.execute_reply": "2022-01-23T14:10:51.111364Z",
     "shell.execute_reply.started": "2022-01-23T14:09:50.105680Z"
    },
    "papermill": {
     "duration": 0.301809,
     "end_time": "2022-01-23T14:10:51.111550",
     "exception": false,
     "start_time": "2022-01-23T14:10:50.809741",
     "status": "completed"
    },
    "tags": []
   },
   "outputs": [
    {
     "data": {
      "image/png": "[encoded data removed]",
      "text/plain": [
       "<Figure size 1080x576 with 1 Axes>"
      ]
     },
     "metadata": {},
     "output_type": "display_data"
    }
   ],
   "source": [
    "tvm= ndata.country.value_counts()[:15]\n",
    "plt.style.use('fivethirtyeight')\n",
    "plt.figure(figsize=(15 ,8))\n",
    "plt.plot(tvm, linestyle='--', marker='o', ms=10, mec='b', color='k',mew=5)\n",
    "plt.xticks(rotation = 90)\n",
    "plt.title('These Countries Produces Movies', size =20, weight = 'bold')\n",
    "plt.show()"
   ]
  },
  {
   "cell_type": "code",
   "execution_count": 18,
   "id": "5b48e01e",
   "metadata": {
    "execution": {
     "iopub.execute_input": "2022-01-23T14:10:51.178360Z",
     "iopub.status.busy": "2022-01-23T14:10:51.177610Z",
     "iopub.status.idle": "2022-01-23T14:10:51.369142Z",
     "shell.execute_reply": "2022-01-23T14:10:51.367953Z",
     "shell.execute_reply.started": "2022-01-23T14:09:50.368083Z"
    },
    "papermill": {
     "duration": 0.226076,
     "end_time": "2022-01-23T14:10:51.369316",
     "exception": false,
     "start_time": "2022-01-23T14:10:51.143240",
     "status": "completed"
    },
    "tags": []
   },
   "outputs": [
    {
     "name": "stderr",
     "output_type": "stream",
     "text": [
      "/opt/conda/lib/python3.7/site-packages/seaborn/_decorators.py:43: FutureWarning: Pass the following variable as a keyword arg: x. From version 0.12, the only valid positional argument will be `data`, and passing other arguments without an explicit keyword will result in an error or misinterpretation.\n",
      "  FutureWarning\n"
     ]
    },
    {
     "data": {
      "image/png": "[encoded data removed]",
      "text/plain": [
       "<Figure size 576x360 with 1 Axes>"
      ]
     },
     "metadata": {},
     "output_type": "display_data"
    }
   ],
   "source": [
    "plt.figure(figsize=(8,5))\n",
    "plt.style.use('fivethirtyeight')\n",
    "sns.countplot(ndata.type)\n",
    "plt.title('Movies are made more than TV Shows ', weight = 'bold', size= 25)\n",
    "plt.show()\n"
   ]
  },
  {
   "cell_type": "markdown",
   "id": "d21ece5f",
   "metadata": {
    "papermill": {
     "duration": 0.033246,
     "end_time": "2022-01-23T14:10:51.436065",
     "exception": false,
     "start_time": "2022-01-23T14:10:51.402819",
     "status": "completed"
    },
    "tags": []
   },
   "source": [
    "## Types of rating and insights.\n",
    "\n"
   ]
  },
  {
   "cell_type": "code",
   "execution_count": 19,
   "id": "848f80cc",
   "metadata": {
    "execution": {
     "iopub.execute_input": "2022-01-23T14:10:51.505075Z",
     "iopub.status.busy": "2022-01-23T14:10:51.504363Z",
     "iopub.status.idle": "2022-01-23T14:10:51.518019Z",
     "shell.execute_reply": "2022-01-23T14:10:51.518519Z",
     "shell.execute_reply.started": "2022-01-23T14:09:50.551947Z"
    },
    "papermill": {
     "duration": 0.049942,
     "end_time": "2022-01-23T14:10:51.518705",
     "exception": false,
     "start_time": "2022-01-23T14:10:51.468763",
     "status": "completed"
    },
    "tags": []
   },
   "outputs": [
    {
     "data": {
      "text/html": [
       "<div>\n",
       "<style scoped>\n",
       "    .dataframe tbody tr th:only-of-type {\n",
       "        vertical-align: middle;\n",
       "    }\n",
       "\n",
       "    .dataframe tbody tr th {\n",
       "        vertical-align: top;\n",
       "    }\n",
       "\n",
       "    .dataframe thead th {\n",
       "        text-align: right;\n",
       "    }\n",
       "</style>\n",
       "<table border=\"1\" class=\"dataframe\">\n",
       "  <thead>\n",
       "    <tr style=\"text-align: right;\">\n",
       "      <th></th>\n",
       "      <th>type</th>\n",
       "      <th>title</th>\n",
       "      <th>director</th>\n",
       "      <th>cast</th>\n",
       "      <th>country</th>\n",
       "      <th>date_added</th>\n",
       "      <th>release_year</th>\n",
       "      <th>rating</th>\n",
       "      <th>duration</th>\n",
       "    </tr>\n",
       "    <tr>\n",
       "      <th>show_id</th>\n",
       "      <th></th>\n",
       "      <th></th>\n",
       "      <th></th>\n",
       "      <th></th>\n",
       "      <th></th>\n",
       "      <th></th>\n",
       "      <th></th>\n",
       "      <th></th>\n",
       "      <th></th>\n",
       "    </tr>\n",
       "  </thead>\n",
       "  <tbody>\n",
       "    <tr>\n",
       "      <th>s1</th>\n",
       "      <td>Movie</td>\n",
       "      <td>Dick Johnson Is Dead</td>\n",
       "      <td>Kirsten Johnson</td>\n",
       "      <td>Unknown</td>\n",
       "      <td>United States</td>\n",
       "      <td>2021-09-25</td>\n",
       "      <td>2020</td>\n",
       "      <td>PG-13</td>\n",
       "      <td>90 min</td>\n",
       "    </tr>\n",
       "    <tr>\n",
       "      <th>s2</th>\n",
       "      <td>TV Show</td>\n",
       "      <td>Blood &amp; Water</td>\n",
       "      <td>Unknown</td>\n",
       "      <td>Ama Qamata, Khosi Ngema, Gail Mabalane, Thaban...</td>\n",
       "      <td>South Africa</td>\n",
       "      <td>2021-09-24</td>\n",
       "      <td>2021</td>\n",
       "      <td>TV-MA</td>\n",
       "      <td>2 Seasons</td>\n",
       "    </tr>\n",
       "    <tr>\n",
       "      <th>s3</th>\n",
       "      <td>TV Show</td>\n",
       "      <td>Ganglands</td>\n",
       "      <td>Julien Leclercq</td>\n",
       "      <td>Sami Bouajila, Tracy Gotoas, Samuel Jouy, Nabi...</td>\n",
       "      <td>Unknown</td>\n",
       "      <td>2021-09-24</td>\n",
       "      <td>2021</td>\n",
       "      <td>TV-MA</td>\n",
       "      <td>1 Season</td>\n",
       "    </tr>\n",
       "    <tr>\n",
       "      <th>s4</th>\n",
       "      <td>TV Show</td>\n",
       "      <td>Jailbirds New Orleans</td>\n",
       "      <td>Unknown</td>\n",
       "      <td>Unknown</td>\n",
       "      <td>Unknown</td>\n",
       "      <td>2021-09-24</td>\n",
       "      <td>2021</td>\n",
       "      <td>TV-MA</td>\n",
       "      <td>1 Season</td>\n",
       "    </tr>\n",
       "    <tr>\n",
       "      <th>s5</th>\n",
       "      <td>TV Show</td>\n",
       "      <td>Kota Factory</td>\n",
       "      <td>Unknown</td>\n",
       "      <td>Mayur More, Jitendra Kumar, Ranjan Raj, Alam K...</td>\n",
       "      <td>India</td>\n",
       "      <td>2021-09-24</td>\n",
       "      <td>2021</td>\n",
       "      <td>TV-MA</td>\n",
       "      <td>2 Seasons</td>\n",
       "    </tr>\n",
       "  </tbody>\n",
       "</table>\n",
       "</div>"
      ],
      "text/plain": [
       "            type                  title         director  \\\n",
       "show_id                                                    \n",
       "s1         Movie   Dick Johnson Is Dead  Kirsten Johnson   \n",
       "s2       TV Show          Blood & Water          Unknown   \n",
       "s3       TV Show              Ganglands  Julien Leclercq   \n",
       "s4       TV Show  Jailbirds New Orleans          Unknown   \n",
       "s5       TV Show           Kota Factory          Unknown   \n",
       "\n",
       "                                                      cast        country  \\\n",
       "show_id                                                                     \n",
       "s1                                                 Unknown  United States   \n",
       "s2       Ama Qamata, Khosi Ngema, Gail Mabalane, Thaban...   South Africa   \n",
       "s3       Sami Bouajila, Tracy Gotoas, Samuel Jouy, Nabi...        Unknown   \n",
       "s4                                                 Unknown        Unknown   \n",
       "s5       Mayur More, Jitendra Kumar, Ranjan Raj, Alam K...          India   \n",
       "\n",
       "        date_added  release_year rating   duration  \n",
       "show_id                                             \n",
       "s1      2021-09-25          2020  PG-13     90 min  \n",
       "s2      2021-09-24          2021  TV-MA  2 Seasons  \n",
       "s3      2021-09-24          2021  TV-MA   1 Season  \n",
       "s4      2021-09-24          2021  TV-MA   1 Season  \n",
       "s5      2021-09-24          2021  TV-MA  2 Seasons  "
      ]
     },
     "execution_count": 19,
     "metadata": {},
     "output_type": "execute_result"
    }
   ],
   "source": [
    "ndata.head()"
   ]
  },
  {
   "cell_type": "code",
   "execution_count": 20,
   "id": "b15d1aa7",
   "metadata": {
    "execution": {
     "iopub.execute_input": "2022-01-23T14:10:51.590208Z",
     "iopub.status.busy": "2022-01-23T14:10:51.589523Z",
     "iopub.status.idle": "2022-01-23T14:10:51.604130Z",
     "shell.execute_reply": "2022-01-23T14:10:51.604614Z",
     "shell.execute_reply.started": "2022-01-23T14:09:50.568281Z"
    },
    "papermill": {
     "duration": 0.052656,
     "end_time": "2022-01-23T14:10:51.604802",
     "exception": false,
     "start_time": "2022-01-23T14:10:51.552146",
     "status": "completed"
    },
    "tags": []
   },
   "outputs": [],
   "source": [
    "ndata.rating.unique()\n",
    "ndata.rating = ndata.rating.replace({'PG-13':'unsuitable for children', 'TV-MA':\"unsuitable for children\", \n",
    "                                     'PG':'parental guidance', 'TV-14':'unsuitable for children',\n",
    "                                     'TV-Y':'suitable for children', 'TV-Y7':'suitable for children',\n",
    "                                     'R':'unsuitable for children','TV-G':'suitable for children',\n",
    "                                    'G':'General Audiences', 'NC-17':'unsuitable for children', 'NR':'Not Rated', 'TV-PG':'parental guidance'})"
   ]
  },
  {
   "cell_type": "code",
   "execution_count": 21,
   "id": "5b76482e",
   "metadata": {
    "execution": {
     "iopub.execute_input": "2022-01-23T14:10:51.701740Z",
     "iopub.status.busy": "2022-01-23T14:10:51.684990Z",
     "iopub.status.idle": "2022-01-23T14:10:52.013222Z",
     "shell.execute_reply": "2022-01-23T14:10:52.012494Z",
     "shell.execute_reply.started": "2022-01-23T14:09:50.589390Z"
    },
    "papermill": {
     "duration": 0.374906,
     "end_time": "2022-01-23T14:10:52.013371",
     "exception": false,
     "start_time": "2022-01-23T14:10:51.638465",
     "status": "completed"
    },
    "tags": []
   },
   "outputs": [
    {
     "data": {
      "image/png": "[encoded data removed]",
      "text/plain": [
       "<Figure size 936x504 with 1 Axes>"
      ]
     },
     "metadata": {},
     "output_type": "display_data"
    }
   ],
   "source": [
    "plt.figure(figsize=(13,7))\n",
    "plt.hist(ndata.rating, color = 'k', edgecolor='r', bins= 20)\n",
    "plt.xlabel('All Types of Rating')\n",
    "plt.ylabel('Total no of Movies and TV shows')\n",
    "plt.tight_layout()\n",
    "plt.xticks(rotation=90)\n",
    "plt.show()"
   ]
  },
  {
   "cell_type": "markdown",
   "id": "231d27fd",
   "metadata": {
    "papermill": {
     "duration": 0.035665,
     "end_time": "2022-01-23T14:10:52.084881",
     "exception": false,
     "start_time": "2022-01-23T14:10:52.049216",
     "status": "completed"
    },
    "tags": []
   },
   "source": [
    "\n"
   ]
  }
 ],
 "metadata": {
  "kernelspec": {
   "display_name": "Python 3",
   "language": "python",
   "name": "python3"
  },
  "language_info": {
   "codemirror_mode": {
    "name": "ipython",
    "version": 3
   },
   "file_extension": ".py",
   "mimetype": "text/x-python",
   "name": "python",
   "nbconvert_exporter": "python",
   "pygments_lexer": "ipython3",
   "version": "3.7.12"
  },
  "papermill": {
   "default_parameters": {},
   "duration": 15.832891,
   "end_time": "2022-01-23T14:10:52.833492",
   "environment_variables": {},
   "exception": null,
   "input_path": "__notebook__.ipynb",
   "output_path": "__notebook__.ipynb",
   "parameters": {},
   "start_time": "2022-01-23T14:10:37.000601",
   "version": "2.3.3"
  }
 },
 "nbformat": 4,
 "nbformat_minor": 5
}
